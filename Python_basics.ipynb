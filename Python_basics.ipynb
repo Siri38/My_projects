{
 "cells": [
  {
   "cell_type": "code",
   "execution_count": 1,
   "id": "90f75023",
   "metadata": {},
   "outputs": [
    {
     "name": "stdout",
     "output_type": "stream",
     "text": [
      "Type of a <class 'int'>\n",
      "Type of b <class 'float'>\n",
      "Type of c <class 'complex'>\n"
     ]
    }
   ],
   "source": [
    "\n",
    "#Numeric Data Type\n",
    "#Int\n",
    "#float\n",
    "#complex\n",
    "\n",
    "a=5\n",
    "print(\"Type of a\",type(a))\n",
    "\n",
    "b=5.0\n",
    "print(\"Type of b\", type(b))\n",
    "\n",
    "c=2+4j     # complex number in the form of a+bj  where a and b any number\n",
    "print(\"Type of c\",type(c))"
   ]
  },
  {
   "cell_type": "code",
   "execution_count": 15,
   "id": "311afdba",
   "metadata": {},
   "outputs": [
    {
     "name": "stdout",
     "output_type": "stream",
     "text": [
      "Hello and welcome to my world\n",
      "1\n",
      "['hello', 'and', 'welcome', 'to', 'my', 'world']\n",
      "HELLO AND WELCOME TO MY WORLD\n",
      "Apple#Banana#Grapes\n",
      "16\n",
      "10\n",
      "hello and python to my world\n",
      "helloworld\n"
     ]
    }
   ],
   "source": [
    "\n",
    "text=\"hello and welcome to my world\"\n",
    "\n",
    "# to capitalize \n",
    "\n",
    "print(text.capitalize())\n",
    "\n",
    "#count\n",
    "# value, start end\n",
    "print(text.count(\"welcome\"))\n",
    "\n",
    "#split\n",
    "print(text.split())\n",
    "\n",
    "#uppercase\n",
    "print(text.upper())\n",
    "\n",
    "# Join\n",
    "mylist=(\"Apple\",\"Banana\",\"Grapes\")\n",
    "x=\"#\".join(mylist)\n",
    "print(x)\n",
    "\n",
    "#find\n",
    "\n",
    "print(text.rfind(\"e\"))\n",
    "\n",
    "print(text.find(\"welcome\"))\n",
    "# replace parameter  old value, new value , count\n",
    "print(text.replace(\"welcome\",\"python\"))\n",
    "\n",
    "\n",
    "# concatenation\n",
    "\n",
    "a=\"hello\"\n",
    "b=\"world\"\n",
    "\n",
    "print(a+b)\n"
   ]
  },
  {
   "cell_type": "code",
   "execution_count": 28,
   "id": "bf9c9c10",
   "metadata": {},
   "outputs": [
    {
     "name": "stdout",
     "output_type": "stream",
     "text": [
      "append() operation\n",
      "[10, 20, 30, 40, 50, 60, 70, 80]\n",
      "pop() operation to remove\n",
      "[10, 20, 30, 50, 60, 70, 80]\n",
      "list be in reverse \n",
      "[80, 70, 60, 50, 30, 20, 10]\n",
      "list after sorting\n",
      "[10, 20, 30, 50, 60, 70, 80]\n",
      "Index of 60 4\n",
      "[10, 20, 30, '40', 50, 60, 70, 80]\n",
      "[10, 20, 30, '40', 50, 60, 70, 80, 1, 2, 3, 4]\n",
      "[1, 2, 3, 4]\n",
      "[10, 30, '40', 50, 60, 70, 80, 1, 2, 3, 4]\n"
     ]
    }
   ],
   "source": [
    "lst=[10,20,30,40,50,60,70]\n",
    "\n",
    "# append will add element in the end\n",
    "\n",
    "lst.append(80)\n",
    "print(\"append() operation\")\n",
    "print(lst)\n",
    "\n",
    "#Remove the elemnt\n",
    "lst.pop(3)\n",
    "print(\"pop() operation to remove\")\n",
    "print(lst)\n",
    "\n",
    "# reverse \n",
    "lst.reverse()\n",
    "print(\"list be in reverse \")\n",
    "print(lst)\n",
    "# sorting  lst.sort(reverse=True) descending order\n",
    "lst.sort()\n",
    "print(\"list after sorting\")\n",
    "print(lst)\n",
    "\n",
    "#finding the index of element\n",
    "\n",
    "print(\"Index of 60\",+lst.index(60))\n",
    "\n",
    "# remove all the elemnts in list\n",
    "#lst.clear()\n",
    "#print(\"remove all the elements\")\n",
    "#print(lst)\n",
    "#lst insert\n",
    "lst.insert(3,'40')\n",
    "print(lst)\n",
    "#extend\n",
    "lst2=[1,2,3,4]\n",
    "lst.extend(lst2)\n",
    "print(lst)\n",
    "\n",
    "#copy of list\n",
    "print(lst2.copy())\n",
    "\n",
    "# remove\n",
    "lst.remove(20)\n",
    "print(lst)\n"
   ]
  },
  {
   "cell_type": "code",
   "execution_count": 29,
   "id": "92400ef7",
   "metadata": {},
   "outputs": [
    {
     "name": "stdout",
     "output_type": "stream",
     "text": [
      "['P', 'r', 'o', 'g', 'r', 'a', 'm', 'm', 'i', 'n', 'g']\n"
     ]
    }
   ],
   "source": [
    "# converting a sring into list\n",
    "lst1=[]\n",
    "for char in \"Programming\":\n",
    "    lst1.append(char)\n",
    "print(lst1)"
   ]
  },
  {
   "cell_type": "code",
   "execution_count": 33,
   "id": "08e7d66d",
   "metadata": {},
   "outputs": [
    {
     "name": "stdout",
     "output_type": "stream",
     "text": [
      "Appended tupple [1, 2, 3, 4, 5]\n",
      "nested list comprehension [[0, 1, 2, 3, 4], [0, 1, 2, 3, 4], [0, 1, 2, 3, 4]]\n",
      "comprehension using loop [1, 2, 3, 4, 5]\n"
     ]
    }
   ],
   "source": [
    "# convert a tuple in a list\n",
    "lst=[] #empty list[1,2,3,4,5]\n",
    "tup=(1,2,3,4,5)\n",
    "for i in tup:\n",
    "    lst.append(i)\n",
    "print(\"Appended tupple\",lst)\n",
    "\n",
    "#nested list comprehendion\n",
    "matrix=[[j for j in range(5)] for i in range(3)]\n",
    "print(\"nested list comprehension\",matrix)\n",
    "\n",
    "# list comprhension in loop\n",
    "list=[i for i in lst]\n",
    "print(\"comprehension using loop\",list)"
   ]
  },
  {
   "cell_type": "code",
   "execution_count": 35,
   "id": "4e936f0c",
   "metadata": {},
   "outputs": [
    {
     "name": "stdout",
     "output_type": "stream",
     "text": [
      "return occurence of element 1 4\n",
      "Return the index of element 5 5\n"
     ]
    }
   ],
   "source": [
    "#Tuple method\n",
    "#immutable data type \n",
    "t1=(1,2,3,1,4,5,2,1,1,2)\n",
    "print(\"return occurence of element 1\",+t1.count(1))\n",
    "print(\"Return the index of element 5\",+t1.index(5))\n",
    "\n"
   ]
  },
  {
   "cell_type": "code",
   "execution_count": 36,
   "id": "7999a1dd",
   "metadata": {},
   "outputs": [
    {
     "name": "stdout",
     "output_type": "stream",
     "text": [
      "Mixed vlue {0, 1, 2.0, 5, 'a', 23, 'python'}\n",
      "Set mapped through string {'e', 'a', 'l', 't', 'n', 'i', 'I', 'p'}\n"
     ]
    }
   ],
   "source": [
    "#Set Datatype\n",
    "s1=set([1,23,5,5,\"python\",0,2.0,'a'])\n",
    "print(\"Mixed vlue\",s1)\n",
    "\n",
    "s2=set(\"Intellipaat\")\n",
    "print(\"Set mapped through string\",s2)\n"
   ]
  },
  {
   "cell_type": "code",
   "execution_count": 42,
   "id": "bcd849ff",
   "metadata": {},
   "outputs": [
    {
     "name": "stdout",
     "output_type": "stream",
     "text": [
      "{'l', 'e', 't', 'n', 'i', 'p'}\n",
      "{'l', 't', 'n', 'i', 'p'}\n",
      "{'t', 'n', 'i', 'p'}\n",
      "{'t', 'n', 'i', 'p'}\n",
      "set()\n"
     ]
    }
   ],
   "source": [
    "#Set Methods\n",
    "s={'i','n','t','e','l'}\n",
    "# add a elemnt\n",
    "s.add('p')\n",
    "print(s)\n",
    "# remove \n",
    "s.remove('e')\n",
    "print(s)\n",
    "#pop\n",
    "s.pop()\n",
    "print(s)\n",
    "a={'p','i'}\n",
    "\n",
    "print(s.union(a))\n",
    "\n",
    "s.clear()\n",
    "print(s)"
   ]
  },
  {
   "cell_type": "code",
   "execution_count": 1,
   "id": "3602e36e",
   "metadata": {},
   "outputs": [
    {
     "name": "stdout",
     "output_type": "stream",
     "text": [
      "a(intersection)b: {'t', 'n'}\n",
      "a(difference)b {'i', 'r', 'l'}\n",
      "a(symmetric difference)b {'y', 'h', 'p', 'i', 'l', 'o', 'r'}\n"
     ]
    }
   ],
   "source": [
    "#set Operation \n",
    "\n",
    "a={'i','n','t','r','l'}\n",
    "b={'p','y','t','h','o','n'}\n",
    "\n",
    "#finding the intersection of s and a\n",
    "# \n",
    "print(\"a(intersection)b:\",a.intersection(b))\n",
    "\n",
    "#finding the difference  \n",
    "# the element are in set a but not in b\n",
    "print(\"a(difference)b\",a.difference(b))\n",
    "\n",
    "# finding symmetric difference\n",
    "#not matching value in both the set\n",
    "print(\"a(symmetric difference)b\",a.symmetric_difference(b))"
   ]
  },
  {
   "cell_type": "code",
   "execution_count": 49,
   "id": "d83e60ac",
   "metadata": {},
   "outputs": [
    {
     "name": "stdout",
     "output_type": "stream",
     "text": [
      "update for set join {1, 2, 3, 4.0, 'Python', 'Training', 'Intellipaat', 'python'}\n",
      "|operator join s1 and s3 {'u', 'e', 'Python', 'a', 'Training', 'o', 'Intellipaat', 'i'}\n",
      "reduce() join s1 ans s2\n",
      "{1, 2, 3, 4.0, 'Python', 'Training', 'Intellipaat', 'python'}\n",
      "itertools chain {1, 2, 3, 4.0, 'u', 'e', 'Python', 'a', 'Training', 'o', 'Intellipaat', 'i', 'python'}\n",
      "* operator to join  ('Python', 'Training', 'Intellipaat', 32, 2, 11, 12)\n"
     ]
    }
   ],
   "source": [
    "# joins in set\n",
    "\n",
    "s1={\"Python\",\"Training\",\"Intellipaat\"}\n",
    "s2=set([1,2,3,\"python\",4.0])\n",
    "s3={'a','e','i','o','u'}\n",
    "\n",
    "s2.update(s1)\n",
    "print(\"update for set join\",s2)\n",
    "\n",
    "print(\"|operator join s1 and s3\",s1|s3)\n",
    "\n",
    "import operator\n",
    "from functools import reduce\n",
    "print(\"reduce() join s1 ans s2\")\n",
    "print(reduce(operator.or_,[s1,s2]))\n",
    "\n",
    "import itertools\n",
    "new_set=set(itertools.chain(s1,s2,s3))\n",
    "print(\"itertools chain\",new_set)\n",
    "\n",
    "s4={12,32,11,2}\n",
    "set2=(*s1,*s4)\n",
    "print(\"* operator to join \",set2)"
   ]
  },
  {
   "cell_type": "code",
   "execution_count": 51,
   "id": "dd3d12e4",
   "metadata": {},
   "outputs": [
    {
     "name": "stdout",
     "output_type": "stream",
     "text": [
      "dictionary with integers key\n",
      "{1: 'Python', 2: 'Training', 3: 'Online'}\n",
      "mixed value {'Name': 'Python', 1: 'Hello'}\n"
     ]
    }
   ],
   "source": [
    "#Dictionaries : key-value\n",
    "\n",
    "dict1={1:\"Python\",2:\"Training\",3:\"Online\"}\n",
    "print(\"dictionary with integers key\")\n",
    "print(dict1)\n",
    "\n",
    "dict2={'Name':\"Python\",1:\"Hello\"}\n",
    "print(\"mixed value\",dict2)\n"
   ]
  },
  {
   "cell_type": "code",
   "execution_count": 60,
   "id": "cff1e0c5",
   "metadata": {},
   "outputs": [
    {
     "name": "stdout",
     "output_type": "stream",
     "text": [
      "None\n",
      "dict_keys([2, 3])\n",
      "dict_values(['Training', 'Online'])\n",
      "dict_items([(2, 'Training'), (3, 'Online')])\n",
      "{2: 'Training', 3: 'Online'}\n"
     ]
    }
   ],
   "source": [
    "#access the key\n",
    "print(dict1.get(1))\n",
    "\n",
    "# accessing key for the dic\n",
    "print(dict1.keys())\n",
    "\n",
    "# accessing the values in dic\n",
    "print(dict1.values())\n",
    "\n",
    "#accessing the item in di\n",
    "print(dict1.items())\n",
    "\n",
    "# remove the value with key\n",
    "#print(dict1.pop(1))\n",
    "print(\"after removeal\",dict1)"
   ]
  },
  {
   "cell_type": "code",
   "execution_count": 62,
   "id": "901bee69",
   "metadata": {},
   "outputs": [
    {
     "name": "stdout",
     "output_type": "stream",
     "text": [
      "{'a': 1, 'b': 2, 'c': 3}\n"
     ]
    }
   ],
   "source": [
    "# dictionay comrehension\n",
    "# creating dic fromm two list\n",
    "\n",
    "keys=['a','b','c']\n",
    "values=[1,2,3]\n",
    "dict1={k:v for (k,v) in zip(keys,values)}\n",
    "print(dict1)\n"
   ]
  },
  {
   "cell_type": "code",
   "execution_count": 64,
   "id": "d9e6893d",
   "metadata": {},
   "outputs": [
    {
     "name": "stdout",
     "output_type": "stream",
     "text": [
      "Intellipaat \n",
      "elpa y\n",
      "gniniarT nohtyP taapilletnI\n",
      "Python Training\n",
      "Intellipaat \n"
     ]
    }
   ],
   "source": [
    "#Slicing in python\n",
    "string=\"Intellipaat Python Training\"\n",
    "print(string[0:12])# printing 0-12 character\n",
    "print(string[3:14:2]) #char jumps bt 2 middle character\n",
    "print(string[::-1])# printing the reverse string\n",
    "print(string[12:]) # print character after index 12\n",
    "print(string[:12])# print first 12 character\n",
    "\n"
   ]
  },
  {
   "cell_type": "code",
   "execution_count": 65,
   "id": "0e7843af",
   "metadata": {},
   "outputs": [
    {
     "name": "stdout",
     "output_type": "stream",
     "text": [
      "[10, 20, 30, 40, 50, 60, 70]\n",
      "[70, 60, 50, 40, 30, 20, 10]\n",
      "[50, 40, 30]\n",
      "[70, 40, 10]\n",
      "[10, 20, 30]\n"
     ]
    }
   ],
   "source": [
    "#list slicing\n",
    "lst=[10,20,30,40,50,60,70]\n",
    "print(lst[::]) # it will print all the list\n",
    "print(lst[::-1])# reverse list\n",
    "print(lst[4:1:-1])# printing in the range of 4-1\n",
    "print(lst[::-3]) #reverse with jump 3\n",
    "print(lst[0:3])# print in range 0-3"
   ]
  },
  {
   "cell_type": "code",
   "execution_count": null,
   "id": "fef125ce",
   "metadata": {},
   "outputs": [],
   "source": []
  },
  {
   "cell_type": "code",
   "execution_count": null,
   "id": "4e83ae30",
   "metadata": {},
   "outputs": [],
   "source": []
  }
 ],
 "metadata": {
  "kernelspec": {
   "display_name": "Python 3 (ipykernel)",
   "language": "python",
   "name": "python3"
  },
  "language_info": {
   "codemirror_mode": {
    "name": "ipython",
    "version": 3
   },
   "file_extension": ".py",
   "mimetype": "text/x-python",
   "name": "python",
   "nbconvert_exporter": "python",
   "pygments_lexer": "ipython3",
   "version": "3.9.13"
  }
 },
 "nbformat": 4,
 "nbformat_minor": 5
}
